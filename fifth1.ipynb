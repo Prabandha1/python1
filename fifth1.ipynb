{
 "cells": [
  {
   "cell_type": "code",
   "execution_count": 3,
   "metadata": {
    "collapsed": false
   },
   "outputs": [
    {
     "name": "stdout",
     "output_type": "stream",
     "text": [
      "enter the number123\n",
      "reverse of num is 321\n"
     ]
    }
   ],
   "source": [
    "#for printing reverse of num\n",
    "num=int(raw_input(\"enter the number\"))\n",
    "reverse=0\n",
    "while(num>0):\n",
    "    rem=num%10\n",
    "    reverse=(reverse*10)+rem\n",
    "    num=num//10\n",
    "print (\"reverse of num is %d\"%reverse)"
   ]
  },
  {
   "cell_type": "code",
   "execution_count": 4,
   "metadata": {
    "collapsed": false
   },
   "outputs": [
    {
     "name": "stdout",
     "output_type": "stream",
     "text": [
      "enter the number123\n",
      "reverse of num is 321\n",
      "num is not palindrome\n"
     ]
    }
   ],
   "source": [
    "num=int(raw_input(\"enter the number\"))\n",
    "reverse=0\n",
    "while(num>0):\n",
    "    rem=num%10\n",
    "    reverse=(reverse*10)+rem\n",
    "    num=num//10\n",
    "print (\"reverse of num is %d\"%reverse)\n",
    "if (num==reverse):\n",
    "    print \"num is palindrome\"\n",
    "else:\n",
    "    print \"num is not palindrome\""
   ]
  },
  {
   "cell_type": "code",
   "execution_count": 13,
   "metadata": {
    "collapsed": false
   },
   "outputs": [
    {
     "name": "stdout",
     "output_type": "stream",
     "text": [
      "enter the number12321\n",
      "reverse of num is 12321\n",
      "num is palindrome\n"
     ]
    }
   ],
   "source": [
    "#for checking whether the given num is palindrome or not\n",
    "num=int(raw_input(\"enter the number\"))\n",
    "reverse=0\n",
    "n=num\n",
    "while(num>0):\n",
    "    rem=num%10\n",
    "    reverse=(reverse*10)+rem\n",
    "    num=num/10\n",
    "print (\"reverse of num is %d\"%reverse)\n",
    "if reverse==n:\n",
    "    print \"num is palindrome\"\n",
    "else:\n",
    "    print \"num is not palindrome\""
   ]
  },
  {
   "cell_type": "code",
   "execution_count": 11,
   "metadata": {
    "collapsed": false
   },
   "outputs": [
    {
     "name": "stdout",
     "output_type": "stream",
     "text": [
      "Enter a number12321\n",
      "12321 is palindrome\n"
     ]
    }
   ],
   "source": [
    "num=int(raw_input(\"Enter a number\"))\n",
    "sum1=0\n",
    "n=num\n",
    " \n",
    "while num!=0:\n",
    "\trem=num%10\n",
    "\tsum1=sum1*10+rem\n",
    "\tnum=num/10\n",
    "if sum1==n:\n",
    "\tprint n, \"is palindrome\"\n",
    "else:\n",
    "\tprint n, \"is not palindrome\""
   ]
  },
  {
   "cell_type": "code",
   "execution_count": 18,
   "metadata": {
    "collapsed": false
   },
   "outputs": [
    {
     "name": "stdout",
     "output_type": "stream",
     "text": [
      "Enter any number: 1634\n",
      "Armstrong Number\n"
     ]
    }
   ],
   "source": [
    "number=int(raw_input(\"Enter any number: \"))\n",
    "temp=number               #order=len(str(number))\n",
    "Sum = 0\n",
    " \n",
    "while(temp != 0):\n",
    "    rem  = temp % 10 \n",
    "    Sum  = Sum + (rem * rem * rem*rem) #order\n",
    "    temp = temp / 10 \n",
    " \n",
    "if(number == Sum):\n",
    "    print (\"Armstrong Number\")\n",
    "else:\n",
    "    print (\"Not an Armstrong Number\")"
   ]
  },
  {
   "cell_type": "code",
   "execution_count": 19,
   "metadata": {
    "collapsed": false
   },
   "outputs": [
    {
     "name": "stdout",
     "output_type": "stream",
     "text": [
      "Enter any number: 153\n",
      "Armstrong Number\n"
     ]
    }
   ],
   "source": [
    "#for armstrong number\n",
    "number=int(raw_input(\"Enter any number: \"))\n",
    "temp=number               #order=len(str(number))\n",
    "Sum = 0\n",
    " \n",
    "while(temp != 0):\n",
    "    rem  = temp % 10 \n",
    "    Sum  = Sum + (rem * rem * rem) #order\n",
    "    temp = temp / 10 \n",
    " \n",
    "if(number == Sum):\n",
    "    print (\"Armstrong Number\")\n",
    "else:\n",
    "    print (\"Not an Armstrong Number\")"
   ]
  },
  {
   "cell_type": "code",
   "execution_count": 24,
   "metadata": {
    "collapsed": false
   },
   "outputs": [
    {
     "name": "stdout",
     "output_type": "stream",
     "text": [
      "enter num55\n",
      "num is not prime\n"
     ]
    }
   ],
   "source": [
    "#for prime number\n",
    "n=int(raw_input(\"enter num\"))\n",
    "if(n>1):\n",
    "    for i in range(2,n):\n",
    "        if(n%i==0):\n",
    "            print \"num is not prime\"\n",
    "            break\n",
    "    else:\n",
    "        print \"num is prime\"\n",
    "else:\n",
    "    print \"num is not prime\""
   ]
  },
  {
   "cell_type": "code",
   "execution_count": 25,
   "metadata": {
    "collapsed": false
   },
   "outputs": [
    {
     "name": "stdout",
     "output_type": "stream",
     "text": [
      "enter num19\n",
      "num is prime\n"
     ]
    }
   ],
   "source": [
    "#for prime number\n",
    "n=int(raw_input(\"enter num\"))\n",
    "if(n>1):\n",
    "    for i in range(2,n):\n",
    "        if(n%i==0):\n",
    "            print \"num is not prime\"\n",
    "            break\n",
    "    else:\n",
    "        print \"num is prime\"\n",
    "else:\n",
    "    print \"num is not prime\""
   ]
  },
  {
   "cell_type": "code",
   "execution_count": null,
   "metadata": {
    "collapsed": true
   },
   "outputs": [],
   "source": []
  },
  {
   "cell_type": "code",
   "execution_count": 26,
   "metadata": {
    "collapsed": false
   },
   "outputs": [
    {
     "name": "stdout",
     "output_type": "stream",
     "text": [
      "enter the num3\n",
      "6\n"
     ]
    }
   ],
   "source": [
    "#factorial of given num\n",
    "num=int(raw_input(\"enter the num\"))\n",
    "res=num*(num-1)*(num-2)\n",
    "print res"
   ]
  },
  {
   "cell_type": "code",
   "execution_count": 32,
   "metadata": {
    "collapsed": false
   },
   "outputs": [
    {
     "name": "stdout",
     "output_type": "stream",
     "text": [
      "enter the num5\n",
      "factorial is 120\n"
     ]
    }
   ],
   "source": [
    "#factorial of given num\n",
    "num=int(raw_input(\"enter the num\"))\n",
    "factorial=1\n",
    "if(num<0):\n",
    "    print\"factorial doesnot exists for negative numbers\"\n",
    "elif(num==0):\n",
    "    print\"factorial for 0 is 1\"\n",
    "else:\n",
    "    for i in range(1,num+1):\n",
    "        factorial=factorial*i\n",
    "    print (\"factorial is %d\"%factorial)\n",
    "    "
   ]
  },
  {
   "cell_type": "code",
   "execution_count": null,
   "metadata": {
    "collapsed": false
   },
   "outputs": [],
   "source": [
    "#fiboacci series up to a given number\n",
    "nterms = int(input(\"How many terms? \"))\n",
    "n1=int(raw_input(\"enter first term\"))\n",
    "n2 =int()\n",
    "count = 2\n",
    "if nterms <= 0:\n",
    "   print(\"Please enter a positive integer\")\n",
    "elif nterms == 1:\n",
    "   print(\"Fibonacci sequence upto\",nterms,\":\")\n",
    "   print(n1)\n",
    "else:\n",
    "   print(\"Fibonacci sequence upto\",nterms,\":\")\n",
    "   print(n1,\",\"n2)\n",
    "   while count < nterms:\n",
    "       nth = n1 + n2\n",
    "       print(nth)\n",
    "       n1 = n2\n",
    "       n2 = nth\n",
    "       count += 1"
   ]
  },
  {
   "cell_type": "code",
   "execution_count": null,
   "metadata": {
    "collapsed": true
   },
   "outputs": [],
   "source": []
  },
  {
   "cell_type": "code",
   "execution_count": 7,
   "metadata": {
    "collapsed": false
   },
   "outputs": [
    {
     "name": "stdout",
     "output_type": "stream",
     "text": [
      "How many terms? 5\n",
      "enter first term1\n",
      "enter second term2\n",
      "('Fibonacci sequence upto', 5)\n",
      "1\n",
      "2\n",
      "3\n",
      "5\n",
      "8\n"
     ]
    }
   ],
   "source": [
    "#fiboacci series up to a given number\n",
    "nterms = int(input(\"How many terms? \"))\n",
    "n1=int(raw_input(\"enter first term\"))\n",
    "n2 =int(raw_input(\"enter second term\"))\n",
    "count = 2\n",
    "if nterms <= 0:\n",
    "   print(\"Please enter a positive integer\")\n",
    "elif nterms == 1:\n",
    "   print(\"Fibonacci sequence upto\"+nterms)\n",
    "   print(n1)\n",
    "else:\n",
    "   print(\"Fibonacci sequence upto\",nterms)\n",
    "   print(n1)\n",
    "   print(n2)\n",
    "   while count < nterms:\n",
    "       nth = n1 + n2\n",
    "       print(nth)\n",
    "       n1 = n2\n",
    "       n2 = nth\n",
    "       count += 1"
   ]
  },
  {
   "cell_type": "code",
   "execution_count": 10,
   "metadata": {
    "collapsed": false
   },
   "outputs": [
    {
     "name": "stdout",
     "output_type": "stream",
     "text": [
      "program started\n",
      "hello world\n",
      "some statements\n",
      "end of program\n"
     ]
    }
   ],
   "source": [
    "print \"program started\"\n",
    "def fun():\n",
    "    print \"some statements\"\n",
    "print \"hello world\"\n",
    "fun()\n",
    "print(\"end of program\")"
   ]
  },
  {
   "cell_type": "code",
   "execution_count": 11,
   "metadata": {
    "collapsed": false
   },
   "outputs": [
    {
     "name": "stdout",
     "output_type": "stream",
     "text": [
      "program started\n",
      "hello world\n",
      "30\n",
      "some statements\n",
      "end of program\n"
     ]
    }
   ],
   "source": [
    "print \"program started\"\n",
    "def fun(a,b):\n",
    "    print a+b\n",
    "    print \"some statements\"\n",
    "print \"hello world\"\n",
    "fun(10,20)\n",
    "print(\"end of program\")"
   ]
  },
  {
   "cell_type": "code",
   "execution_count": 13,
   "metadata": {
    "collapsed": false
   },
   "outputs": [
    {
     "name": "stdout",
     "output_type": "stream",
     "text": [
      "program started\n",
      "hello world\n",
      "haihello\n",
      "some statements\n",
      "end of program\n"
     ]
    }
   ],
   "source": [
    "print \"program started\"\n",
    "def fun(a, b):\n",
    "    print a+b\n",
    "    print \"some statements\"\n",
    "print \"hello world\"\n",
    "fun(\"hai\",\"hello\")\n",
    "print(\"end of program\")"
   ]
  },
  {
   "cell_type": "code",
   "execution_count": 15,
   "metadata": {
    "collapsed": false
   },
   "outputs": [
    {
     "name": "stdout",
     "output_type": "stream",
     "text": [
      "program started\n",
      "hello world\n",
      "haihellowelcome\n",
      "some statements\n",
      "end of program\n"
     ]
    }
   ],
   "source": [
    "print \"program started\"\n",
    "def fun(a, b,c=0):\n",
    "    print a+b+c\n",
    "    print \"some statements\"\n",
    "print \"hello world\"\n",
    "fun(\"hai\",\"hello\",\"welcome\")\n",
    "print(\"end of program\")"
   ]
  },
  {
   "cell_type": "code",
   "execution_count": 16,
   "metadata": {
    "collapsed": false
   },
   "outputs": [
    {
     "name": "stdout",
     "output_type": "stream",
     "text": [
      "program started\n",
      "hello world\n",
      "60\n",
      "some statements\n",
      "end of program\n"
     ]
    }
   ],
   "source": [
    "print \"program started\"\n",
    "def fun(a, b,c=0,d=0):\n",
    "    print a+b+c\n",
    "    print \"some statements\"\n",
    "print \"hello world\"\n",
    "fun(10,20,30,40)\n",
    "print(\"end of program\")"
   ]
  },
  {
   "cell_type": "code",
   "execution_count": 18,
   "metadata": {
    "collapsed": false
   },
   "outputs": [
    {
     "name": "stdout",
     "output_type": "stream",
     "text": [
      "program started\n",
      "hello world\n",
      "30\n",
      "some statements\n",
      "end of program\n"
     ]
    }
   ],
   "source": [
    "print \"program started\"\n",
    "def fun(a, b,c=0,d=0):\n",
    "    print a+b+c\n",
    "    print \"some statements\"\n",
    "print \"hello world\"\n",
    "fun(10,20)\n",
    "print(\"end of program\")"
   ]
  },
  {
   "cell_type": "code",
   "execution_count": 19,
   "metadata": {
    "collapsed": false
   },
   "outputs": [
    {
     "name": "stdout",
     "output_type": "stream",
     "text": [
      "program started\n",
      "hello world\n",
      "30\n",
      "some statements\n",
      "end of program\n"
     ]
    }
   ],
   "source": [
    "print \"program started\"\n",
    "def fun(a, b=0,c=0,d=0):\n",
    "    print a+b+c\n",
    "    print \"some statements\"\n",
    "print \"hello world\"\n",
    "fun(10,20)\n",
    "print(\"end of program\")"
   ]
  },
  {
   "cell_type": "code",
   "execution_count": 20,
   "metadata": {
    "collapsed": false
   },
   "outputs": [
    {
     "name": "stdout",
     "output_type": "stream",
     "text": [
      "program started\n",
      "hello world\n",
      "50\n",
      "some statements\n",
      "end of program\n"
     ]
    }
   ],
   "source": [
    "print \"program started\"\n",
    "a=50\n",
    "def fun():\n",
    "    print a\n",
    "    print \"some statements\"\n",
    "print \"hello world\"\n",
    "fun()\n",
    "print(\"end of program\")"
   ]
  },
  {
   "cell_type": "code",
   "execution_count": 22,
   "metadata": {
    "collapsed": false
   },
   "outputs": [
    {
     "name": "stdout",
     "output_type": "stream",
     "text": [
      "program started\n",
      "hello world\n",
      "10\n",
      "some statements\n",
      "end of program\n"
     ]
    }
   ],
   "source": [
    "print \"program started\"\n",
    "a=50\n",
    "def fun(a):\n",
    "    print a\n",
    "    print \"some statements\"\n",
    "print \"hello world\"\n",
    "fun(10)\n",
    "print(\"end of program\")"
   ]
  },
  {
   "cell_type": "code",
   "execution_count": 24,
   "metadata": {
    "collapsed": false
   },
   "outputs": [
    {
     "name": "stdout",
     "output_type": "stream",
     "text": [
      "program started\n",
      "hello world\n",
      "77\n",
      "some statements\n",
      "end of program\n"
     ]
    }
   ],
   "source": [
    "print \"program started\"\n",
    "def fun():\n",
    "    a=77\n",
    "    print a\n",
    "    print \"some statements\"\n",
    "print \"hello world\"\n",
    "fun()\n",
    "print(\"end of program\")"
   ]
  },
  {
   "cell_type": "code",
   "execution_count": null,
   "metadata": {
    "collapsed": true
   },
   "outputs": [],
   "source": []
  }
 ],
 "metadata": {
  "kernelspec": {
   "display_name": "Python 2",
   "language": "python",
   "name": "python2"
  },
  "language_info": {
   "codemirror_mode": {
    "name": "ipython",
    "version": 2
   },
   "file_extension": ".py",
   "mimetype": "text/x-python",
   "name": "python",
   "nbconvert_exporter": "python",
   "pygments_lexer": "ipython2",
   "version": "2.7.13"
  }
 },
 "nbformat": 4,
 "nbformat_minor": 2
}
